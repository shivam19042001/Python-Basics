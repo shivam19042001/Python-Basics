{
  "nbformat": 4,
  "nbformat_minor": 0,
  "metadata": {
    "colab": {
      "provenance": []
    },
    "kernelspec": {
      "name": "python3",
      "display_name": "Python 3"
    },
    "language_info": {
      "name": "python"
    }
  },
  "cells": [
    {
      "cell_type": "code",
      "execution_count": null,
      "metadata": {
        "id": "vZlo8YrEkYwO"
      },
      "outputs": [],
      "source": [
        "#1 What is Python, and why is it popular?\n",
        "\"\"\"\n",
        "Python is a high-level, interpreted programming language known for its simplicity, readability, and versatility.\n",
        "Python is widely used for web development, data science, artificial intelligence, automation, game development, and more.\n",
        "\n",
        "Why?\n",
        "1.Easy to Learn and Use:-\n",
        "Simple and readable syntax similar to English.\n",
        "Beginner-friendly and widely used in education.\n",
        "\n",
        "2.Versatile and Powerful:-\n",
        "Used in web development, data science, AI, automation, cybersecurity, and more.\n",
        "\n",
        "3.Large Community Support:-\n",
        "Active community with thousands of tutorials, forums, and libraries.\n",
        "\n",
        "4.Extensive Libraries & Frameworks:-\n",
        "Libraries like NumPy, pandas, TensorFlow, Django, Flask make Python powerful.\n",
        "\n",
        "5.Cross-Platform Compatibility:-\n",
        "Runs on Windows, macOS, Linux, and even embedded systems like Raspberry Pi.\n",
        "\n",
        "6.Automation & Scripting:-\n",
        "Great for automating repetitive tasks, such as file handling and web scraping.\n",
        "\n",
        "7.Strong in Data Science & AI:-\n",
        "Leading language for machine learning, deep learning, and data analytics.\n",
        "\n",
        "\"\"\"\n"
      ]
    },
    {
      "cell_type": "code",
      "source": [
        "#2 What is an interpreter in Python\n",
        "\"\"\"\n",
        "An interpreter in Python is a program that executes Python code line by line instead of compiling the entire code at once\n",
        "\n",
        "-Python's interpreter makes it a flexible, easy-to-use, and dynamically executed language, perfect for beginners and experts alike\n",
        "-Errors are caught line by line, making it easy to fix.\n",
        "-The same Python code can run on Windows, macOS, or Linux without modification make platform independant.\n",
        "\n",
        "\"\"\""
      ],
      "metadata": {
        "colab": {
          "base_uri": "https://localhost:8080/",
          "height": 70
        },
        "id": "1uUW3ywQktNB",
        "outputId": "41399a5b-7ff3-44b0-841d-b97fe00a763b",
        "collapsed": true
      },
      "execution_count": null,
      "outputs": [
        {
          "output_type": "execute_result",
          "data": {
            "text/plain": [
              "\"\\nAn interpreter in Python is a program that executes Python code line by line instead of compiling the entire code at once\\n\\n-Python's interpreter makes it a flexible, easy-to-use, and dynamically executed language, perfect for beginners and experts alike\\n-Errors are caught line by line, making it easy to fix.\\n-The same Python code can run on Windows, macOS, or Linux without modification make platform independant.\\n\\n\""
            ],
            "application/vnd.google.colaboratory.intrinsic+json": {
              "type": "string"
            }
          },
          "metadata": {},
          "execution_count": 3
        }
      ]
    },
    {
      "cell_type": "code",
      "source": [
        "#3 What are pre-defined keywords in Python?\n",
        "\"\"\"\n",
        "Predefined keywords - also called reserved words in Python are special words that have specific\n",
        "meanings in the language. They cannot be used as variable names, function names, or identifiers.\n",
        "\n",
        "Ex. True, False ,if, else, elif, while, for, break, continue, pass,def, return, lambda, class etc.\n",
        "\"\"\""
      ],
      "metadata": {
        "id": "V4pz-UdPllxN"
      },
      "execution_count": null,
      "outputs": []
    },
    {
      "cell_type": "code",
      "source": [
        "#4 Can keywords be used as variable names?\n",
        "\"\"\"\n",
        "No, keywords cannot be used as variable names in Python.\n",
        "-Python keywords are reserved words that have special meanings in the language. Using them as variable names will\n",
        " result in a SyntaxError.\n",
        "\n",
        "Ex.\n",
        "\"\"\"\n",
        "if = 10\n",
        "print(if)"
      ],
      "metadata": {
        "id": "nMg4D0VOvGAw",
        "colab": {
          "base_uri": "https://localhost:8080/",
          "height": 106
        },
        "outputId": "8309aa83-116e-40d3-d48b-ea75b20206c9"
      },
      "execution_count": null,
      "outputs": [
        {
          "output_type": "error",
          "ename": "SyntaxError",
          "evalue": "invalid syntax (<ipython-input-5-8fdca047f26c>, line 8)",
          "traceback": [
            "\u001b[0;36m  File \u001b[0;32m\"<ipython-input-5-8fdca047f26c>\"\u001b[0;36m, line \u001b[0;32m8\u001b[0m\n\u001b[0;31m    if = 10\u001b[0m\n\u001b[0m       ^\u001b[0m\n\u001b[0;31mSyntaxError\u001b[0m\u001b[0;31m:\u001b[0m invalid syntax\n"
          ]
        }
      ]
    },
    {
      "cell_type": "code",
      "source": [
        "#5 What is mutability in Python?\n",
        "\"\"\"\n",
        "Mutability in Python refers to whether an object's value can be changed after creation.\n",
        "\n",
        "Mutable objects -> Can be changed after creation (e.g., lists, dictionaries, sets).\n",
        "Immutable objects -> Cannot be changed after creation (e.g., tuples, strings, integers).\n",
        "\n",
        "Mutable Data Types:- List,Dictionary, Set ,Bytearray\n",
        "Immutable Data Types:- Tuple,String,Integer,Float,Boolean,Bytes,Frozen Set\n",
        "\n",
        "\"\"\"\n"
      ],
      "metadata": {
        "id": "Gq5LM3sslsyD",
        "colab": {
          "base_uri": "https://localhost:8080/",
          "height": 106
        },
        "outputId": "924c0eed-62cc-43cd-efda-51d5f6e97b3d",
        "collapsed": true
      },
      "execution_count": null,
      "outputs": [
        {
          "output_type": "error",
          "ename": "SyntaxError",
          "evalue": "incomplete input (<ipython-input-1-ad33a9100ace>, line 2)",
          "traceback": [
            "\u001b[0;36m  File \u001b[0;32m\"<ipython-input-1-ad33a9100ace>\"\u001b[0;36m, line \u001b[0;32m2\u001b[0m\n\u001b[0;31m    \"\"\"\u001b[0m\n\u001b[0m    ^\u001b[0m\n\u001b[0;31mSyntaxError\u001b[0m\u001b[0;31m:\u001b[0m incomplete input\n"
          ]
        }
      ]
    },
    {
      "cell_type": "code",
      "source": [
        "#6 Why are lists mutable, but tuples are immutable?\n",
        "\"\"\"\n",
        "Lists :- Lists are designed to store dynamic data.They allow adding, removing, or changing elements after creation.\n",
        "        Stored in a flexible memory structure, enabling modifications.\n",
        "\n",
        "Tuples:- Tuples are designed for fixed data storage.Once created, elements cannot be changed, added, or removed.\n",
        "         Stored in a more optimized memory structure, making them faster and safer.\n",
        "\n",
        "\"\"\""
      ],
      "metadata": {
        "colab": {
          "base_uri": "https://localhost:8080/",
          "height": 36
        },
        "id": "JoAyHpdCp5iB",
        "outputId": "396f3aef-400b-442a-c919-9394d06c9af0",
        "collapsed": true
      },
      "execution_count": null,
      "outputs": [
        {
          "output_type": "execute_result",
          "data": {
            "text/plain": [
              "'\\n'"
            ],
            "application/vnd.google.colaboratory.intrinsic+json": {
              "type": "string"
            }
          },
          "metadata": {},
          "execution_count": 1
        }
      ]
    },
    {
      "cell_type": "code",
      "source": [
        "#7 What is the difference between “==” and “is” operators in Python?\n",
        "\"\"\"\n",
        "The '==' operator compares the values of two objects to determine if they are the same, regardless of where they are stored in memory.\n",
        "\n",
        "While, 'is' operator checks whether two variables refer to the exact same object in memory, meaning they are not just equal in value but actually the same instance.\n",
        "\"\"\"\n"
      ],
      "metadata": {
        "id": "XotbqbUIvEWB"
      },
      "execution_count": null,
      "outputs": []
    },
    {
      "cell_type": "code",
      "source": [
        "#8 What are logical operators in Python?\n",
        "\"\"\"\n",
        "Logical operators are used to combine multiple conditions and return a Boolean result.\n",
        "\n",
        "Logical Operators in Python\n",
        "and → Returns True if both conditions are True.\n",
        "or → Returns True if at least one condition is True.\n",
        "not → Reverses the Boolean value.\n",
        "\"\"\""
      ],
      "metadata": {
        "colab": {
          "base_uri": "https://localhost:8080/",
          "height": 106
        },
        "id": "_MN4L692p6Ea",
        "outputId": "11712e23-defb-45a1-9882-10aa7f159819",
        "collapsed": true
      },
      "execution_count": null,
      "outputs": [
        {
          "output_type": "error",
          "ename": "SyntaxError",
          "evalue": "incomplete input (<ipython-input-1-f82a1fcd2b81>, line 1)",
          "traceback": [
            "\u001b[0;36m  File \u001b[0;32m\"<ipython-input-1-f82a1fcd2b81>\"\u001b[0;36m, line \u001b[0;32m1\u001b[0m\n\u001b[0;31m    def greeting():\u001b[0m\n\u001b[0m                   ^\u001b[0m\n\u001b[0;31mSyntaxError\u001b[0m\u001b[0;31m:\u001b[0m incomplete input\n"
          ]
        }
      ]
    },
    {
      "cell_type": "code",
      "source": [
        "#9 What is type casting in Python?\n",
        "\"\"\"\n",
        "Type casting is the process of converting one data type into another in Python.\n",
        "-> Types of Type Casting\n",
        "Implicit Casting (Automatic) → Python automatically converts types (e.g., int to float).\n",
        "Explicit Casting (Manual) → We manually convert types\n",
        "\n",
        "\"\"\""
      ],
      "metadata": {
        "colab": {
          "base_uri": "https://localhost:8080/",
          "height": 53
        },
        "id": "Yj_xFnzoV-FR",
        "outputId": "77f02bbe-eac1-462e-d361-09510b1cdfdd",
        "collapsed": true
      },
      "execution_count": 46,
      "outputs": [
        {
          "output_type": "execute_result",
          "data": {
            "text/plain": [
              "'\\nType casting is the process of converting one data type into another in Python.\\n-> Types of Type Casting\\nImplicit Casting (Automatic) → Python automatically converts types (e.g., int to float).\\nExplicit Casting (Manual) → We manually convert types\\n\\n'"
            ],
            "application/vnd.google.colaboratory.intrinsic+json": {
              "type": "string"
            }
          },
          "metadata": {},
          "execution_count": 46
        }
      ]
    },
    {
      "cell_type": "code",
      "source": [
        "#10 What is the difference between implicit and explicit tcpe casting?\n",
        "\"\"\"\n",
        "->Implicit Casting (Automatic) → Python automatically converts types (e.g., int to float).\n",
        "\n",
        "->Explicit Casting (Manual) → We manually convert types using functions like:\n",
        "int() → Converts to integer\n",
        "float() → Converts to float\n",
        "str() → Converts to string\n",
        "list(), tuple(), set(), etc. → Convert to respective types\n",
        "\"\"\""
      ],
      "metadata": {
        "id": "CRslg_egWTIR",
        "colab": {
          "base_uri": "https://localhost:8080/",
          "height": 106
        },
        "outputId": "803656b4-ce9e-4514-b128-d91b8127a9d4",
        "collapsed": true
      },
      "execution_count": 1,
      "outputs": [
        {
          "output_type": "error",
          "ename": "SyntaxError",
          "evalue": "incomplete input (<ipython-input-1-56391a4ab564>, line 2)",
          "traceback": [
            "\u001b[0;36m  File \u001b[0;32m\"<ipython-input-1-56391a4ab564>\"\u001b[0;36m, line \u001b[0;32m2\u001b[0m\n\u001b[0;31m    \"\"\"\u001b[0m\n\u001b[0m    ^\u001b[0m\n\u001b[0;31mSyntaxError\u001b[0m\u001b[0;31m:\u001b[0m incomplete input\n"
          ]
        }
      ]
    },
    {
      "cell_type": "code",
      "source": [
        "#11 What is the purpose of conditional statements in Python?\n",
        "\n",
        "\"\"\"\n",
        "Conditional statements control the flow of execution based on conditions.\n",
        "They help in decision-making by executing different blocks of code depending on whether a condition is True or False.\n",
        "\"\"\"\n"
      ],
      "metadata": {
        "colab": {
          "base_uri": "https://localhost:8080/",
          "height": 53
        },
        "id": "NUT35GHFmOu9",
        "outputId": "dbc660fb-62d2-408d-c131-7c35a4f88071",
        "collapsed": true
      },
      "execution_count": 2,
      "outputs": [
        {
          "output_type": "execute_result",
          "data": {
            "text/plain": [
              "'\\nConditional statements control the flow of execution based on conditions. \\nThey help in decision-making by executing different blocks of code depending on whether a condition is True or False.\\n'"
            ],
            "application/vnd.google.colaboratory.intrinsic+json": {
              "type": "string"
            }
          },
          "metadata": {},
          "execution_count": 2
        }
      ]
    },
    {
      "cell_type": "code",
      "source": [
        "#12  How does the elif statement work?\n",
        "\"\"\"\n",
        "The elif statement checks multiple conditions in an if-elif-else structure.\n",
        "\n",
        "How It Works:\n",
        "1.The if condition is checked first.\n",
        "2.If if is False, Python moves to the elif condition.\n",
        "3.If an elif condition is True, its block executes, and the rest are skipped.\n",
        "4.If none of the conditions are True, the else block (if present) executes.\n",
        "\"\"\""
      ],
      "metadata": {
        "id": "m2MMXqrWmYI3"
      },
      "execution_count": null,
      "outputs": []
    },
    {
      "cell_type": "code",
      "source": [
        "#13 What is the difference between for and while loops?\n",
        "\"\"\"\n",
        "Difference Between for and while Loops in Python\n",
        "\n",
        "for Loop:\n",
        "-Used when the number of iterations is known.\n",
        "-Iterates over a sequence (e.g., list, range, string).\n",
        "\n",
        "while Loop:\n",
        "-Used when the number of iterations is unknown.\n",
        "-Runs until a condition becomes False.\n",
        "\"\"\""
      ],
      "metadata": {
        "id": "kXzFRX32w2MQ"
      },
      "execution_count": null,
      "outputs": []
    },
    {
      "cell_type": "code",
      "source": [
        "#14 Describe a scenario where a while loop is more suitable than a for loop?\n",
        "\"\"\"\n",
        "A while loop is more suitable when the number of iterations is unknown and depends on a condition.\n",
        "-Imagine you are prompting a user to enter a valid password. You don’t know how many attempts it will take, so a while loop is ideal.\n",
        "\"\"\""
      ],
      "metadata": {
        "id": "bTsDUnW7xuns"
      },
      "execution_count": null,
      "outputs": []
    },
    {
      "cell_type": "markdown",
      "source": [
        "Practical Questions"
      ],
      "metadata": {
        "id": "u5PdelxnyRqD"
      }
    },
    {
      "cell_type": "code",
      "source": [
        "#1 write a python program to print Hello World\n",
        "print(\"Hello, World!\")\n"
      ],
      "metadata": {
        "colab": {
          "base_uri": "https://localhost:8080/"
        },
        "id": "Uhsbij1syLSd",
        "outputId": "472c1e47-5a1c-445f-f821-7c8b6e954212"
      },
      "execution_count": 3,
      "outputs": [
        {
          "output_type": "stream",
          "name": "stdout",
          "text": [
            "Hello, World!\n"
          ]
        }
      ]
    },
    {
      "cell_type": "code",
      "source": [
        "#2 Write a Python program displays your name and age\n",
        "\n",
        "name = \"SHIVAM THACKER\"\n",
        "age = 24\n",
        "\n",
        "print(\"Name:\", name)\n",
        "print(\"Age:\", age)\n"
      ],
      "metadata": {
        "colab": {
          "base_uri": "https://localhost:8080/"
        },
        "id": "3i1My4AayLal",
        "outputId": "72a551cb-44fd-44c7-da49-dbd1542aa7ef"
      },
      "execution_count": 5,
      "outputs": [
        {
          "output_type": "stream",
          "name": "stdout",
          "text": [
            "Name: SHIVAM THACKER\n",
            "Age: 24\n"
          ]
        }
      ]
    },
    {
      "cell_type": "code",
      "source": [
        "#3 code to print all the pre-defined keywords in Python using the keyword library.\n",
        "\n",
        "import keyword\n",
        "\n",
        "print(\"Python Keywords:\", keyword.kwlist)\n"
      ],
      "metadata": {
        "colab": {
          "base_uri": "https://localhost:8080/"
        },
        "id": "1qXXz5r0yLiN",
        "outputId": "51cd0ac8-120c-4269-fee3-2b8392e76b6a"
      },
      "execution_count": 6,
      "outputs": [
        {
          "output_type": "stream",
          "name": "stdout",
          "text": [
            "Python Keywords: ['False', 'None', 'True', 'and', 'as', 'assert', 'async', 'await', 'break', 'class', 'continue', 'def', 'del', 'elif', 'else', 'except', 'finally', 'for', 'from', 'global', 'if', 'import', 'in', 'is', 'lambda', 'nonlocal', 'not', 'or', 'pass', 'raise', 'return', 'try', 'while', 'with', 'yield']\n"
          ]
        }
      ]
    },
    {
      "cell_type": "code",
      "source": [
        "#4 program that checks if a given word is a Python keyword.\n",
        "\n",
        "import keyword\n",
        "\n",
        "word = input(\"Enter a word to check if it's a Python keyword: \")\n",
        "\n",
        "if keyword.iskeyword(word):\n",
        "    print(f\"'{word}' is a Python keyword.\")\n",
        "else:\n",
        "    print(f\"'{word}' is not a Python keyword.\")\n",
        "\n"
      ],
      "metadata": {
        "colab": {
          "base_uri": "https://localhost:8080/"
        },
        "id": "UA0r5xtLyLo-",
        "outputId": "fa8e0a3a-39cc-4d77-c84d-eb48169efe89"
      },
      "execution_count": 8,
      "outputs": [
        {
          "output_type": "stream",
          "name": "stdout",
          "text": [
            "Enter a word to check if it's a Python keyword: is\n",
            "'is' is a Python keyword.\n"
          ]
        }
      ]
    },
    {
      "cell_type": "code",
      "source": [
        "#5 Create a list and tuple in Python, demonstrate how attempting to change an element works differently for each.\n",
        "\n",
        "my_list = [1, 2, 3]\n",
        "my_tuple = (4, 5, 6)\n",
        "\n",
        "\n",
        "print(\"Original List:\", my_list)\n",
        "my_list[1] = 99\n",
        "print(\"Modified List:\", my_list)\n",
        "\n",
        "print(\"Original Tuple:\", my_tuple)\n",
        "try:\n",
        "    my_tuple[1] = 99\n",
        "except TypeError as e:\n",
        "    print(\"Error modifying tuple:\", e)"
      ],
      "metadata": {
        "colab": {
          "base_uri": "https://localhost:8080/"
        },
        "id": "2ZKc5FQiyLu8",
        "outputId": "ac0b0eda-5494-41ef-81b8-417b7978eae9"
      },
      "execution_count": 13,
      "outputs": [
        {
          "output_type": "stream",
          "name": "stdout",
          "text": [
            "Original List: [1, 2, 3]\n",
            "Modified List: [1, 99, 3]\n",
            "Original Tuple: (4, 5, 6)\n",
            "Error modifying tuple: 'tuple' object does not support item assignment\n"
          ]
        }
      ]
    },
    {
      "cell_type": "code",
      "source": [
        "#6 Write a func to demonstrate the behavior mutable and immutable arguments.\n",
        "\n",
        "def test_mutable_immutable(m, s):\n",
        "    m.append(100)\n",
        "    s = \"Changed\"\n",
        "\n",
        "\n",
        "lst = [101, 20, 30,40]\n",
        "str_val = \"Original\"\n",
        "\n",
        "test_mutable_immutable(lst, str_val)\n",
        "\n",
        "print(\"List after function:\", lst)\n",
        "print(\"String after function:\", str_val)\n"
      ],
      "metadata": {
        "colab": {
          "base_uri": "https://localhost:8080/"
        },
        "id": "c6E65CzGyL0r",
        "outputId": "08ace17d-2864-4bfb-b696-59b7ac81c89c"
      },
      "execution_count": 19,
      "outputs": [
        {
          "output_type": "stream",
          "name": "stdout",
          "text": [
            "List after function: [101, 20, 30, 40, 100]\n",
            "String after function: Original\n"
          ]
        }
      ]
    },
    {
      "cell_type": "code",
      "source": [
        "#7 performs basic arithmetic operations on two userinput numbers.\n",
        "\n",
        "\n",
        "a = float(input(\"Enter the first number: \"))\n",
        "b = float(input(\"Enter the second number: \"))\n",
        "\n",
        "add = a + b\n",
        "subtract = a - b\n",
        "multiply = a * b\n",
        "divide = a / b if b != 0 else \"Cannot divide by zero\"\n",
        "\n",
        "\n",
        "print(f\"Sum: {add}\")\n",
        "print(f\"subtract: {subtract}\")\n",
        "print(f\"multiply: {multiply}\")\n",
        "print(f\"divide: {divide}\")\n",
        "\n"
      ],
      "metadata": {
        "colab": {
          "base_uri": "https://localhost:8080/"
        },
        "id": "LRDZdrzZyL7T",
        "outputId": "079dbc83-9b98-443a-e0fe-b640f3c51b24"
      },
      "execution_count": 47,
      "outputs": [
        {
          "output_type": "stream",
          "name": "stdout",
          "text": [
            "Enter the first number: 25\n",
            "Enter the second number: 47\n",
            "Sum: 72.0\n",
            "subtract: -22.0\n",
            "multiply: 1175.0\n",
            "divide: 0.5319148936170213\n"
          ]
        }
      ]
    },
    {
      "cell_type": "code",
      "source": [
        "#8 program to demonstrate the use of logical operators\n",
        "\n",
        "a = int(input(\"Enter a number: \"))\n",
        "b = int(input(\"Enter another number: \"))\n",
        "\n",
        "if a > 0 and b > 0:\n",
        "    print(\"Both numbers are positive.\")\n",
        "elif a > 0 or b > 0:\n",
        "    print(\"At least one number is positive.\")\n",
        "else:\n",
        "    print(\"Both numbers are not positive\")\n",
        "\n",
        "if (a == b):\n",
        "    print(\"The numbers are equal.\")\n"
      ],
      "metadata": {
        "colab": {
          "base_uri": "https://localhost:8080/"
        },
        "id": "XvKfm7ZHyMA2",
        "outputId": "6e62d4e5-d85d-4d12-b4b4-736d06c935a6"
      },
      "execution_count": 25,
      "outputs": [
        {
          "output_type": "stream",
          "name": "stdout",
          "text": [
            "Enter a number: 0\n",
            "Enter another number: 0\n",
            "Both numbers are not positive\n",
            "The numbers are equal.\n"
          ]
        }
      ]
    },
    {
      "cell_type": "code",
      "source": [
        "#9 program to convert user input from string to integer, float, and boolean types.\n",
        "\n",
        "value = input(\"Enter a value: \")\n",
        "\n",
        "\n",
        "int_val = int(value)\n",
        "float_val = float(value)\n",
        "bool_val = bool(value)\n",
        "\n",
        "print(f\"Integer: {int_val}\")\n",
        "print(f\"Float: {float_val}\")\n",
        "print(f\"Boolean: {bool_val}\")\n"
      ],
      "metadata": {
        "colab": {
          "base_uri": "https://localhost:8080/"
        },
        "id": "ghj9348jyMHG",
        "outputId": "85219854-371c-44bc-b59f-f821b9453d4e"
      },
      "execution_count": 26,
      "outputs": [
        {
          "output_type": "stream",
          "name": "stdout",
          "text": [
            "Enter a value: 45\n",
            "Integer: 45\n",
            "Float: 45.0\n",
            "Boolean: True\n"
          ]
        }
      ]
    },
    {
      "cell_type": "code",
      "source": [
        "#10 Write code to demonstrate type casting with list elements\n",
        "\n",
        "\n",
        "data = [10, 20, 3.5]\n",
        "\n",
        "int_values = list(map(int, data))\n",
        "float_values = list(map(float, data))\n",
        "\n",
        "print(\"List of integers:\", int_values)\n",
        "print(\"List of floats:\", float_values)\n",
        "\n"
      ],
      "metadata": {
        "colab": {
          "base_uri": "https://localhost:8080/"
        },
        "id": "aFBnIN6jyMOL",
        "outputId": "40336715-f3c5-46e4-bda8-a3ce951f8fa7"
      },
      "execution_count": 34,
      "outputs": [
        {
          "output_type": "stream",
          "name": "stdout",
          "text": [
            "List of integers: [10, 20, 3]\n",
            "List of floats: [10.0, 20.0, 3.5]\n"
          ]
        }
      ]
    },
    {
      "cell_type": "code",
      "source": [
        "#11 program that checks if number is positive, negative, or zero\n",
        "\n",
        "num = input(\"Enter a number: \")\n",
        "num = float(num)\n",
        "\n",
        "if num > 0:\n",
        "    print(\"The number is positive.\")\n",
        "elif num < 0:\n",
        "    print(\"The number is negative.\")\n",
        "else:\n",
        "    print(\"The number is zero.\")\n"
      ],
      "metadata": {
        "colab": {
          "base_uri": "https://localhost:8080/"
        },
        "id": "rIsZAI9ayPVc",
        "outputId": "a837fd30-3427-4e29-d30c-d0cee81b2863"
      },
      "execution_count": 39,
      "outputs": [
        {
          "output_type": "stream",
          "name": "stdout",
          "text": [
            "Enter a number: -8.5\n",
            "The number is negative.\n"
          ]
        }
      ]
    },
    {
      "cell_type": "code",
      "source": [
        "#12 for loop to print numbers from 1 to 10.\n",
        "\n",
        "for i in range(1, 11):\n",
        "    print(i)\n"
      ],
      "metadata": {
        "colab": {
          "base_uri": "https://localhost:8080/"
        },
        "id": "kpy7WYNgyPcS",
        "outputId": "cac7a241-5389-4a4d-d208-37cacc13ecf0"
      },
      "execution_count": 40,
      "outputs": [
        {
          "output_type": "stream",
          "name": "stdout",
          "text": [
            "1\n",
            "2\n",
            "3\n",
            "4\n",
            "5\n",
            "6\n",
            "7\n",
            "8\n",
            "9\n",
            "10\n"
          ]
        }
      ]
    },
    {
      "cell_type": "code",
      "source": [
        "#13 Python program to find the sum all even numbers between 1 and 50\n",
        "\n",
        "sum_of_evens = 0\n",
        "\n",
        "\n",
        "for num in range(1, 51):\n",
        "    if num % 2 == 0:\n",
        "        sum_of_evens += num\n",
        "\n",
        "print(\"Sum of all even numbers between 1 and 50:\", sum_of_evens)\n"
      ],
      "metadata": {
        "colab": {
          "base_uri": "https://localhost:8080/"
        },
        "id": "osCVhr4UyPiQ",
        "outputId": "6b500ea6-138b-4a37-dde8-befdb634a020"
      },
      "execution_count": 41,
      "outputs": [
        {
          "output_type": "stream",
          "name": "stdout",
          "text": [
            "Sum of all even numbers between 1 and 50: 650\n"
          ]
        }
      ]
    },
    {
      "cell_type": "code",
      "source": [
        "#14 program to reverse a string using while loop\n",
        "\n",
        "text = input(\"Enter a string: \")\n",
        "\n",
        "reversed_text = \"\"\n",
        "index = len(text) - 1\n",
        "\n",
        "while index >= 0:\n",
        "    reversed_text += text[index]\n",
        "    index -= 1\n",
        "\n",
        "print(\"Reversed string:\", reversed_text)\n",
        "\n",
        "\n"
      ],
      "metadata": {
        "colab": {
          "base_uri": "https://localhost:8080/"
        },
        "id": "SAOqFhl5yPo-",
        "outputId": "5d0be88c-0cae-4d6f-db96-9a24e75c7ba5"
      },
      "execution_count": 44,
      "outputs": [
        {
          "output_type": "stream",
          "name": "stdout",
          "text": [
            "Enter a string: Hii My name is..\n",
            "Reversed string: ..si eman yM iiH\n"
          ]
        }
      ]
    },
    {
      "cell_type": "code",
      "source": [
        "#15 calculate the factorial of number provided by the user using a while loop.\n",
        "\n",
        "n = int(input(\"Enter a number: \"))\n",
        "\n",
        "result = 1\n",
        "i = 1\n",
        "\n",
        "while i <= n:\n",
        "    result *= i\n",
        "    i += 1\n",
        "\n",
        "print(\"Factorial is:\", result)\n"
      ],
      "metadata": {
        "colab": {
          "base_uri": "https://localhost:8080/"
        },
        "id": "TQJU13f6yPyG",
        "outputId": "34f9b1ae-81e5-46a3-d50f-68cc143ba8dc"
      },
      "execution_count": 45,
      "outputs": [
        {
          "output_type": "stream",
          "name": "stdout",
          "text": [
            "Enter a number: 4\n",
            "Factorial is: 24\n"
          ]
        }
      ]
    },
    {
      "cell_type": "code",
      "source": [],
      "metadata": {
        "id": "xvPjyJsKBmQ8"
      },
      "execution_count": null,
      "outputs": []
    }
  ]
}